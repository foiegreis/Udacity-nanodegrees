{
 "cells": [
  {
   "cell_type": "code",
   "execution_count": 1,
   "metadata": {},
   "outputs": [
    {
     "data": {
      "text/plain": [
       "'/home/workspace'"
      ]
     },
     "execution_count": 1,
     "metadata": {},
     "output_type": "execute_result"
    }
   ],
   "source": [
    "import os\n",
    "os.getcwd()"
   ]
  },
  {
   "cell_type": "code",
   "execution_count": 2,
   "metadata": {},
   "outputs": [
    {
     "data": {
      "text/plain": [
       "['download_project.ipynb',\n",
       " 'data_loader.py',\n",
       " '2_Training-zh.ipynb',\n",
       " '0_Dataset-zh.ipynb',\n",
       " 'images',\n",
       " '4_Zip Your Project Files and Submit-zh.ipynb',\n",
       " '.ipynb_checkpoints',\n",
       " 'vocab.pkl',\n",
       " '1_Preliminaries-zh.ipynb',\n",
       " 'vocabulary.py',\n",
       " '4_Zip Your Project Files and Submit.ipynb',\n",
       " 'model.py',\n",
       " '0_Dataset.ipynb',\n",
       " '__pycache__',\n",
       " '2_Training.ipynb',\n",
       " '1_Preliminaries.ipynb',\n",
       " 'models',\n",
       " '3_Inference-zh.ipynb',\n",
       " 'filelist.txt',\n",
       " '3_Inference.ipynb',\n",
       " 'training_log.txt']"
      ]
     },
     "execution_count": 2,
     "metadata": {},
     "output_type": "execute_result"
    }
   ],
   "source": [
    "os.listdir()"
   ]
  },
  {
   "cell_type": "code",
   "execution_count": 3,
   "metadata": {},
   "outputs": [],
   "source": [
    "list_files = os.listdir()"
   ]
  },
  {
   "cell_type": "code",
   "execution_count": null,
   "metadata": {},
   "outputs": [],
   "source": [
    "!tar chvfz notebook.tar.gz *"
   ]
  },
  {
   "cell_type": "code",
   "execution_count": null,
   "metadata": {},
   "outputs": [],
   "source": []
  }
 ],
 "metadata": {
  "kernelspec": {
   "display_name": "Python 3",
   "language": "python",
   "name": "python3"
  },
  "language_info": {
   "codemirror_mode": {
    "name": "ipython",
    "version": 3
   },
   "file_extension": ".py",
   "mimetype": "text/x-python",
   "name": "python",
   "nbconvert_exporter": "python",
   "pygments_lexer": "ipython3",
   "version": "3.6.3"
  }
 },
 "nbformat": 4,
 "nbformat_minor": 2
}
